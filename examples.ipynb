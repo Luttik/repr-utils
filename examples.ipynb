{
 "cells": [
  {
   "cell_type": "code",
   "execution_count": 1,
   "metadata": {},
   "outputs": [],
   "source": [
    "from IPython.core.display import display, HTML, Latex, Markdown\n",
    "from repr_utils import Header, Table, List\n",
    "import logging"
   ]
  },
  {
   "cell_type": "code",
   "execution_count": 2,
   "metadata": {
    "collapsed": false,
    "jupyter": {
     "outputs_hidden": false
    },
    "pycharm": {
     "name": "#%%\n"
    }
   },
   "outputs": [
    {
     "data": {
      "text/plain": "This is a header",
      "text/html": "<h1>This is a header</h1>",
      "text/markdown": "# This is a header",
      "text/latex": "\\section{This is a header}"
     },
     "metadata": {},
     "output_type": "display_data"
    }
   ],
   "source": [
    "header = Header(\"This is a header\")\n",
    "display(header)"
   ]
  },
  {
   "cell_type": "code",
   "execution_count": 3,
   "metadata": {},
   "outputs": [
    {
     "data": {
      "text/plain": "This is a smaller header",
      "text/html": "<h2>This is a smaller header</h2>",
      "text/markdown": "## This is a smaller header",
      "text/latex": "\\subsection{This is a smaller header}"
     },
     "metadata": {},
     "output_type": "display_data"
    }
   ],
   "source": [
    "display(Header(\"This is a smaller header\", 2))"
   ]
  },
  {
   "cell_type": "code",
   "execution_count": 4,
   "metadata": {},
   "outputs": [
    {
     "data": {
      "text/plain": "'This is a header'"
     },
     "metadata": {},
     "output_type": "display_data"
    }
   ],
   "source": [
    "display(str(header))"
   ]
  },
  {
   "cell_type": "code",
   "execution_count": 5,
   "metadata": {},
   "outputs": [
    {
     "name": "stdout",
     "output_type": "stream",
     "text": [
      "<h1>This is a header</h1>\n"
     ]
    },
    {
     "data": {
      "text/plain": "<IPython.core.display.HTML object>",
      "text/html": "<h1>This is a header</h1>"
     },
     "metadata": {},
     "output_type": "display_data"
    }
   ],
   "source": [
    "print(header._repr_html_())\n",
    "display(HTML(header._repr_html_()))"
   ]
  },
  {
   "cell_type": "code",
   "execution_count": 6,
   "metadata": {},
   "outputs": [
    {
     "name": "stdout",
     "output_type": "stream",
     "text": [
      "# This is a header\n"
     ]
    },
    {
     "data": {
      "text/plain": "<IPython.core.display.Markdown object>",
      "text/markdown": "# This is a header"
     },
     "metadata": {},
     "output_type": "display_data"
    }
   ],
   "source": [
    "print(header._repr_markdown_())\n",
    "display(Markdown(header._repr_markdown_()))"
   ]
  },
  {
   "cell_type": "code",
   "execution_count": 7,
   "metadata": {},
   "outputs": [
    {
     "name": "stderr",
     "output_type": "stream",
     "text": [
      "WARNING:root:Printing as Latex (LaTeX sections are not supported in jupyter)\n"
     ]
    },
    {
     "name": "stdout",
     "output_type": "stream",
     "text": [
      "\\section{This is a header}\n"
     ]
    },
    {
     "data": {
      "text/plain": "<IPython.core.display.Latex object>",
      "text/latex": "\\section{This is a header}"
     },
     "metadata": {},
     "output_type": "display_data"
    }
   ],
   "source": [
    "logging.warning(f\"Printing as Latex (LaTeX sections are not supported in jupyter)\")\n",
    "print(header._repr_latex_())\n",
    "display(Latex(header._repr_latex_()))"
   ]
  },
  {
   "cell_type": "code",
   "execution_count": 8,
   "metadata": {},
   "outputs": [
    {
     "data": {
      "text/plain": "Man this header is cool",
      "text/html": "<h1>Man this header is cool</h1>",
      "text/markdown": "# Man this header is cool",
      "text/latex": "\\section{Man this header is cool}"
     },
     "metadata": {},
     "output_type": "display_data"
    },
    {
     "data": {
      "text/plain": "'Text and stuff'"
     },
     "metadata": {},
     "output_type": "display_data"
    },
    {
     "data": {
      "text/plain": "This subsection also works",
      "text/html": "<h2>This subsection also works</h2>",
      "text/markdown": "## This subsection also works",
      "text/latex": "\\subsection{This subsection also works}"
     },
     "metadata": {},
     "output_type": "display_data"
    },
    {
     "data": {
      "text/plain": "'even more text'"
     },
     "metadata": {},
     "output_type": "display_data"
    }
   ],
   "source": [
    "# TODO create a simpler way to display text within its header context.\n",
    "display(\n",
    "    Header(\"Man this header is cool\"),\n",
    "    \"Text and stuff\",\n",
    "    Header(\"This subsection also works\", 2),\n",
    "    \"even more text\"\n",
    ")"
   ]
  },
  {
   "cell_type": "markdown",
   "metadata": {},
   "source": [
    "# Tables"
   ]
  },
  {
   "cell_type": "code",
   "execution_count": 9,
   "metadata": {},
   "outputs": [
    {
     "data": {
      "text/plain": "|   A |   Var X | Another variable   |\n|-----|---------|--------------------|\n|   1 |       2 | Alice              |\n|   3 |      10 | Bob                |\n|  11 |     100 | Charlie            |",
      "text/html": "<table>\n    <thead style=\"font-weight: bold\">\n    <tr>\n        <th>A</th>\n        <th>Var X</th>\n        <th>Another variable</th>\n    </tr>\n    </thead>\n    <tbody>\n        <tr>\n            <td>1</td>\n            <td>2</td>\n            <td>Alice</td>\n        </tr>\n        <tr>\n            <td>3</td>\n            <td>10</td>\n            <td>Bob</td>\n        </tr>\n        <tr>\n            <td>11</td>\n            <td>100</td>\n            <td>Charlie</td>\n        </tr>\n    </tbody>\n</table>\n",
      "text/markdown": "| A      |   Var X | Another variable   |\n|--------|---------|--------------------|\n| **1**  |       2 | Alice              |\n| **3**  |      10 | Bob                |\n| **11** |     100 | Charlie            |",
      "text/latex": "\\begin{tabular}{rrl}\n\\hline\n   A &   Var X & Another variable   \\\\\n\\hline\n   1 &       2 & Alice              \\\\\n   3 &      10 & Bob                \\\\\n  11 &     100 & Charlie            \\\\\n\\hline\n\\end{tabular}"
     },
     "execution_count": 9,
     "metadata": {},
     "output_type": "execute_result"
    }
   ],
   "source": [
    "Table(\n",
    "    ['A', 'Var X', 'Another variable'],\n",
    "    [\n",
    "        [1, 2, 'Alice'],\n",
    "        [3, 10, 'Bob'],\n",
    "        [11, 100, 'Charlie'],\n",
    "    ],\n",
    ")"
   ]
  },
  {
   "cell_type": "markdown",
   "metadata": {},
   "source": [
    "## A table with indexes"
   ]
  },
  {
   "cell_type": "code",
   "execution_count": 10,
   "metadata": {},
   "outputs": [
    {
     "data": {
      "text/plain": "|                 |   A |   Var X | Another variable   |\n|-----------------|-----|---------|--------------------|\n| Row 1           |   1 |       2 | Alice              |\n| Row 2           |   3 |      10 | Bob                |\n| Yet another row |  11 |     100 | Charlie            |",
      "text/html": "<table>\n    <thead style=\"font-weight: bold\">\n    <tr>\n        <th></th>\n        <th>A</th>\n        <th>Var X</th>\n        <th>Another variable</th>\n    </tr>\n    </thead>\n    <tbody>\n        <tr>\n            <th>Row 1</th>\n            <td>1</td>\n            <td>2</td>\n            <td>Alice</td>\n        </tr>\n        <tr>\n            <th>Row 2</th>\n            <td>3</td>\n            <td>10</td>\n            <td>Bob</td>\n        </tr>\n        <tr>\n            <th>Yet another row</th>\n            <td>11</td>\n            <td>100</td>\n            <td>Charlie</td>\n        </tr>\n    </tbody>\n</table>\n",
      "text/markdown": "|                     |   A |   Var X | Another variable   |\n|---------------------|-----|---------|--------------------|\n| **Row 1**           |   1 |       2 | Alice              |\n| **Row 2**           |   3 |      10 | Bob                |\n| **Yet another row** |  11 |     100 | Charlie            |",
      "text/latex": "\\begin{tabular}{lrrl}\n\\hline\n                 &   A &   Var X & Another variable   \\\\\n\\hline\n Row 1           &   1 &       2 & Alice              \\\\\n Row 2           &   3 &      10 & Bob                \\\\\n Yet another row &  11 &     100 & Charlie            \\\\\n\\hline\n\\end{tabular}"
     },
     "execution_count": 10,
     "metadata": {},
     "output_type": "execute_result"
    }
   ],
   "source": [
    "table = Table(\n",
    "    ['', 'A', 'Var X', 'Another variable'],\n",
    "    [\n",
    "        ['Row 1', 1, 2, 'Alice'],\n",
    "        ['Row 2', 3, 10, 'Bob'],\n",
    "        ['Yet another row', 11, 100, 'Charlie'],\n",
    "    ],\n",
    "    has_index=True\n",
    ")\n",
    "table"
   ]
  },
  {
   "cell_type": "code",
   "execution_count": 11,
   "metadata": {},
   "outputs": [
    {
     "name": "stdout",
     "output_type": "stream",
     "text": [
      "<table>\n",
      "    <thead style=\"font-weight: bold\">\n",
      "    <tr>\n",
      "        <th></th>\n",
      "        <th>A</th>\n",
      "        <th>Var X</th>\n",
      "        <th>Another variable</th>\n",
      "    </tr>\n",
      "    </thead>\n",
      "    <tbody>\n",
      "        <tr>\n",
      "            <th>Row 1</th>\n",
      "            <td>1</td>\n",
      "            <td>2</td>\n",
      "            <td>Alice</td>\n",
      "        </tr>\n",
      "        <tr>\n",
      "            <th>Row 2</th>\n",
      "            <td>3</td>\n",
      "            <td>10</td>\n",
      "            <td>Bob</td>\n",
      "        </tr>\n",
      "        <tr>\n",
      "            <th>Yet another row</th>\n",
      "            <td>11</td>\n",
      "            <td>100</td>\n",
      "            <td>Charlie</td>\n",
      "        </tr>\n",
      "    </tbody>\n",
      "</table>\n",
      "\n"
     ]
    },
    {
     "data": {
      "text/plain": "<IPython.core.display.HTML object>",
      "text/html": "<table>\n    <thead style=\"font-weight: bold\">\n    <tr>\n        <th></th>\n        <th>A</th>\n        <th>Var X</th>\n        <th>Another variable</th>\n    </tr>\n    </thead>\n    <tbody>\n        <tr>\n            <th>Row 1</th>\n            <td>1</td>\n            <td>2</td>\n            <td>Alice</td>\n        </tr>\n        <tr>\n            <th>Row 2</th>\n            <td>3</td>\n            <td>10</td>\n            <td>Bob</td>\n        </tr>\n        <tr>\n            <th>Yet another row</th>\n            <td>11</td>\n            <td>100</td>\n            <td>Charlie</td>\n        </tr>\n    </tbody>\n</table>\n"
     },
     "metadata": {},
     "output_type": "display_data"
    }
   ],
   "source": [
    "print(table._repr_html_())\n",
    "display(HTML(table._repr_html_()))"
   ]
  },
  {
   "cell_type": "code",
   "execution_count": 12,
   "metadata": {},
   "outputs": [
    {
     "name": "stdout",
     "output_type": "stream",
     "text": [
      "Markdown table style also works on github.\n",
      "|                     |   A |   Var X | Another variable   |\n",
      "|---------------------|-----|---------|--------------------|\n",
      "| **Row 1**           |   1 |       2 | Alice              |\n",
      "| **Row 2**           |   3 |      10 | Bob                |\n",
      "| **Yet another row** |  11 |     100 | Charlie            |\n"
     ]
    },
    {
     "data": {
      "text/plain": "<IPython.core.display.Markdown object>",
      "text/markdown": "|                     |   A |   Var X | Another variable   |\n|---------------------|-----|---------|--------------------|\n| **Row 1**           |   1 |       2 | Alice              |\n| **Row 2**           |   3 |      10 | Bob                |\n| **Yet another row** |  11 |     100 | Charlie            |"
     },
     "metadata": {},
     "output_type": "display_data"
    }
   ],
   "source": [
    "print('Markdown table style also works on github.')\n",
    "print(table._repr_markdown_())\n",
    "display(Markdown(table._repr_markdown_()))"
   ]
  },
  {
   "cell_type": "code",
   "execution_count": 13,
   "metadata": {},
   "outputs": [
    {
     "name": "stderr",
     "output_type": "stream",
     "text": [
      "WARNING:root:tabular is not properly supported in jupyter\n"
     ]
    },
    {
     "name": "stdout",
     "output_type": "stream",
     "text": [
      "\\begin{tabular}{lrrl}\n",
      "\\hline\n",
      "                 &   A &   Var X & Another variable   \\\\\n",
      "\\hline\n",
      " Row 1           &   1 &       2 & Alice              \\\\\n",
      " Row 2           &   3 &      10 & Bob                \\\\\n",
      " Yet another row &  11 &     100 & Charlie            \\\\\n",
      "\\hline\n",
      "\\end{tabular}\n"
     ]
    },
    {
     "data": {
      "text/plain": "<IPython.core.display.Latex object>",
      "text/latex": "\\begin{tabular}{lrrl}\n\\hline\n                 &   A &   Var X & Another variable   \\\\\n\\hline\n Row 1           &   1 &       2 & Alice              \\\\\n Row 2           &   3 &      10 & Bob                \\\\\n Yet another row &  11 &     100 & Charlie            \\\\\n\\hline\n\\end{tabular}"
     },
     "metadata": {},
     "output_type": "display_data"
    }
   ],
   "source": [
    "logging.warning('tabular is not properly supported in jupyter')\n",
    "print(table._repr_latex_())\n",
    "display(Latex(table._repr_latex_()))"
   ]
  },
  {
   "cell_type": "markdown",
   "metadata": {
    "pycharm": {
     "name": "#%% md\n"
    }
   },
   "source": [
    "# Lists\n",
    "## Unordered"
   ]
  },
  {
   "cell_type": "code",
   "execution_count": 14,
   "metadata": {
    "collapsed": false,
    "jupyter": {
     "outputs_hidden": false
    },
    "pycharm": {
     "name": "#%%\n"
    }
   },
   "outputs": [
    {
     "data": {
      "text/plain": "{'foo': 'bar', 'nested list': ['Item 1', 'Item 2', 'two items coming up', [1, 2], {'a': 1, 'b': 2}], 'nested dictionary': {'More nesting': [1, 2, 3]}}",
      "text/html": "<ul>\n<li>foo: bar</li>\n<li>nested list</li> <ul>\n<li>Item 1</li>\n<li>Item 2</li>\n<li>two items coming up</li>\n<ul>\n<li>1</li>\n<li>2</li>\n</ul>\n<ul>\n<li>a: 1</li>\n<li>b: 2</li>\n</ul>\n</ul>\n<li>nested dictionary</li> <ul>\n<li>More nesting</li> <ul>\n<li>1</li>\n<li>2</li>\n<li>3</li>\n</ul>\n</ul>\n</ul>",
      "text/markdown": " - foo: bar\n - nested list\n     - Item 1\n     - Item 2\n     - two items coming up\n         - 1\n         - 2\n         - a: 1\n         - b: 2\n - nested dictionary\n     - More nesting\n         - 1\n         - 2\n         - 3",
      "text/latex": "\\begin{enumerate}\n\\item foo: bar\n\\item nested list\n\\begin{enumerate}\n\\item Item 1\n\\item Item 2\n\\item two items coming up\n\\begin{enumerate}\n\\item 1\n\\item 2\n\\end{enumerate}\n\\begin{enumerate}\n\\item a: 1\n\\item b: 2\n\\end{enumerate}\n\\end{enumerate}\n\\item nested dictionary\n\\begin{enumerate}\n\\item More nesting\n\\begin{enumerate}\n\\item 1\n\\item 2\n\\item 3\n\\end{enumerate}\n\\end{enumerate}\n\\end{enumerate}"
     },
     "execution_count": 14,
     "metadata": {},
     "output_type": "execute_result"
    }
   ],
   "source": [
    "data = {\n",
    "    'foo': 'bar',\n",
    "    'nested list': [\n",
    "        'Item 1',\n",
    "        'Item 2',\n",
    "        'two items coming up',\n",
    "        [1, 2],\n",
    "        dict(a=1, b=2),\n",
    "    ],\n",
    "    'nested dictionary': {\n",
    "        'More nesting': [1, 2, 3]\n",
    "    }\n",
    "}\n",
    "List(data)"
   ]
  },
  {
   "cell_type": "markdown",
   "source": [
    "## Ordered"
   ],
   "metadata": {
    "collapsed": false,
    "pycharm": {
     "name": "#%% md\n"
    }
   }
  },
  {
   "cell_type": "code",
   "execution_count": 15,
   "outputs": [
    {
     "data": {
      "text/plain": "{'foo': 'bar', 'nested list': ['Item 1', 'Item 2', 'two items coming up', [1, 2], {'a': 1, 'b': 2}], 'nested dictionary': {'More nesting': [1, 2, 3]}}",
      "text/html": "<ol>\n<li>foo: bar</li>\n<li>nested list</li> <ol>\n<li>Item 1</li>\n<li>Item 2</li>\n<li>two items coming up</li>\n<ol>\n<li>1</li>\n<li>2</li>\n</ol>\n<ol>\n<li>a: 1</li>\n<li>b: 2</li>\n</ol>\n</ol>\n<li>nested dictionary</li> <ol>\n<li>More nesting</li> <ol>\n<li>1</li>\n<li>2</li>\n<li>3</li>\n</ol>\n</ol>\n</ol>",
      "text/markdown": " - foo: bar\n - nested list\n     - Item 1\n     - Item 2\n     - two items coming up\n         - 1\n         - 2\n         - a: 1\n         - b: 2\n - nested dictionary\n     - More nesting\n         - 1\n         - 2\n         - 3",
      "text/latex": "\\begin{itemize}\n\\item foo: bar\n\\item nested list\n\\begin{itemize}\n\\item Item 1\n\\item Item 2\n\\item two items coming up\n\\begin{itemize}\n\\item 1\n\\item 2\n\\end{itemize}\n\\begin{itemize}\n\\item a: 1\n\\item b: 2\n\\end{itemize}\n\\end{itemize}\n\\item nested dictionary\n\\begin{itemize}\n\\item More nesting\n\\begin{itemize}\n\\item 1\n\\item 2\n\\item 3\n\\end{itemize}\n\\end{itemize}\n\\end{itemize}"
     },
     "execution_count": 15,
     "metadata": {},
     "output_type": "execute_result"
    }
   ],
   "source": [
    "List(data, numbered=True)"
   ],
   "metadata": {
    "collapsed": false,
    "pycharm": {
     "name": "#%%\n"
    }
   }
  },
  {
   "cell_type": "markdown",
   "source": [
    "## Or even Mixed"
   ],
   "metadata": {
    "collapsed": false,
    "pycharm": {
     "name": "#%% md\n"
    }
   }
  },
  {
   "cell_type": "code",
   "execution_count": 16,
   "outputs": [
    {
     "data": {
      "text/plain": "{'foo': 'bar', 'nested list': ['Item 1', 'Item 2', 'two items coming up', [1, 2], {'a': 1, 'b': 2}], 'nested dictionary': {'More nesting': [1, 2, 3]}}",
      "text/html": "<ol>\n<li>foo: bar</li>\n<li>nested list</li> <ul>\n<li>Item 1</li>\n<li>Item 2</li>\n<li>two items coming up</li>\n<ul>\n<li>1</li>\n<li>2</li>\n</ul>\n<ul>\n<li>a: 1</li>\n<li>b: 2</li>\n</ul>\n</ul>\n<li>nested dictionary</li> <ol>\n<li>More nesting</li> <ol>\n<li>1</li>\n<li>2</li>\n<li>3</li>\n</ol>\n</ol>\n</ol>",
      "text/markdown": " - foo: bar\n - nested list\n     - Item 1\n     - Item 2\n     - two items coming up\n         - 1\n         - 2\n         - a: 1\n         - b: 2\n - nested dictionary\n     - More nesting\n         - 1\n         - 2\n         - 3",
      "text/latex": "\\begin{itemize}\n\\item foo: bar\n\\item nested list\n\\begin{enumerate}\n\\item Item 1\n\\item Item 2\n\\item two items coming up\n\\begin{enumerate}\n\\item 1\n\\item 2\n\\end{enumerate}\n\\begin{enumerate}\n\\item a: 1\n\\item b: 2\n\\end{enumerate}\n\\end{enumerate}\n\\item nested dictionary\n\\begin{itemize}\n\\item More nesting\n\\begin{itemize}\n\\item 1\n\\item 2\n\\item 3\n\\end{itemize}\n\\end{itemize}\n\\end{itemize}"
     },
     "execution_count": 16,
     "metadata": {},
     "output_type": "execute_result"
    }
   ],
   "source": [
    "List(\n",
    "    {\n",
    "        \"foo\": \"bar\",\n",
    "        \"nested list\": List([\n",
    "            \"Item 1\",\n",
    "            \"Item 2\",\n",
    "            \"two items coming up\",\n",
    "            [1, 2],\n",
    "            dict(a=1, b=2),\n",
    "        ]),\n",
    "        \"nested dictionary\": {\"More nesting\": [1, 2, 3]},\n",
    "    },\n",
    "    numbered=True,\n",
    ")"
   ],
   "metadata": {
    "collapsed": false,
    "pycharm": {
     "name": "#%%\n"
    }
   }
  },
  {
   "cell_type": "code",
   "execution_count": 17,
   "metadata": {
    "collapsed": false,
    "jupyter": {
     "outputs_hidden": false
    },
    "pycharm": {
     "name": "#%%\n"
    }
   },
   "outputs": [
    {
     "data": {
      "text/plain": "<IPython.core.display.Markdown object>",
      "text/markdown": " - foo: bar\n - nested list\n     - Item 1\n     - Item 2\n     - two items coming up\n         - 1\n         - 2\n         - a: 1\n         - b: 2\n - nested dictionary\n     - More nesting\n         - 1\n         - 2\n         - 3"
     },
     "metadata": {},
     "output_type": "display_data"
    }
   ],
   "source": [
    "display(Markdown(List(data)._repr_markdown_()))"
   ]
  },
  {
   "cell_type": "code",
   "execution_count": 18,
   "metadata": {
    "collapsed": false,
    "jupyter": {
     "outputs_hidden": false
    },
    "pycharm": {
     "name": "#%%\n"
    }
   },
   "outputs": [
    {
     "name": "stdout",
     "output_type": "stream",
     "text": [
      "\\begin{itemize}\n",
      "\\item foo: bar\n",
      "\\item nested list\n",
      "\\begin{itemize}\n",
      "\\item Item 1\n",
      "\\item Item 2\n",
      "\\item two items coming up\n",
      "\\begin{itemize}\n",
      "\\item 1\n",
      "\\item 2\n",
      "\\end{itemize}\n",
      "\\begin{itemize}\n",
      "\\item a: 1\n",
      "\\item b: 2\n",
      "\\end{itemize}\n",
      "\\end{itemize}\n",
      "\\item nested dictionary\n",
      "\\begin{itemize}\n",
      "\\item More nesting\n",
      "\\begin{itemize}\n",
      "\\item 1\n",
      "\\item 2\n",
      "\\item 3\n",
      "\\end{itemize}\n",
      "\\end{itemize}\n",
      "\\end{itemize}\n"
     ]
    }
   ],
   "source": [
    "print(List(data, numbered=True)._repr_latex_())"
   ]
  }
 ],
 "metadata": {
  "kernelspec": {
   "display_name": "Python 3",
   "language": "python",
   "name": "python3"
  },
  "language_info": {
   "codemirror_mode": {
    "name": "ipython",
    "version": 3
   },
   "file_extension": ".py",
   "mimetype": "text/x-python",
   "name": "python",
   "nbconvert_exporter": "python",
   "pygments_lexer": "ipython3",
   "version": "3.8.2"
  }
 },
 "nbformat": 4,
 "nbformat_minor": 4
}